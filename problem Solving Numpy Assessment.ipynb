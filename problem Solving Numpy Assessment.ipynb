{
 "cells": [
  {
   "cell_type": "markdown",
   "id": "d2547679",
   "metadata": {},
   "source": [
    "### 1. Write a function, foo_1, that takes a NumPy array `arr` and returns the indices of the elements that are closest to a given target. If target is not in the given array, it should return ‘no item found’"
   ]
  },
  {
   "cell_type": "code",
   "execution_count": 2,
   "id": "39a416b5",
   "metadata": {},
   "outputs": [],
   "source": [
    "import numpy as np"
   ]
  },
  {
   "cell_type": "code",
   "execution_count": null,
   "id": "71cbb264",
   "metadata": {},
   "outputs": [],
   "source": [
    "def foo_1(arr,target)"
   ]
  },
  {
   "cell_type": "code",
   "execution_count": 9,
   "id": "8b6faab3",
   "metadata": {},
   "outputs": [
    {
     "name": "stdout",
     "output_type": "stream",
     "text": [
      "no item found\n"
     ]
    }
   ],
   "source": [
    "import numpy as np\n",
    "\n",
    "def foo_1(arr, target):\n",
    "    if target not in arr:\n",
    "        return 'no item found'\n",
    "    \n",
    "    indices = np.abs(arr - target).argmin()\n",
    "    return indices\n",
    "\n",
    "arr = np.array([1, 3, 5, 7,8,6,7,7,3,8,3,7, 9])\n",
    "target = 11\n",
    "res = foo_1(arr, target)\n",
    "\n",
    "print(res)\n"
   ]
  },
  {
   "cell_type": "markdown",
   "id": "cbda208c",
   "metadata": {},
   "source": [
    "### 3.1 You are given a 2D NumPy array of data representing student scores. Each row represents a student, and each column represents a subject. Extract the scores of all students who scored above 90 in at least one subject. Provide the resulting array."
   ]
  },
  {
   "cell_type": "code",
   "execution_count": 28,
   "id": "be4028a4",
   "metadata": {},
   "outputs": [
    {
     "data": {
      "text/plain": [
       "array([[85, 89, 88],\n",
       "       [78, 89, 94],\n",
       "       [91, 87, 90],\n",
       "       [87, 95, 84]])"
      ]
     },
     "execution_count": 28,
     "metadata": {},
     "output_type": "execute_result"
    }
   ],
   "source": [
    "data=np.array([[85,89,88],[78,89,94],[91,87,90],[87,95,84]])\n",
    "data"
   ]
  },
  {
   "cell_type": "code",
   "execution_count": 34,
   "id": "445c4772",
   "metadata": {},
   "outputs": [
    {
     "name": "stdout",
     "output_type": "stream",
     "text": [
      "Scores of students with at least one score above 90:\n",
      "[[78 89 94]\n",
      " [91 87 90]\n",
      " [87 95 84]]\n"
     ]
    }
   ],
   "source": [
    "\n",
    "mark_score_above_90 = data[np.any(data > 90, axis=1)] # check student score 90 in any one subject\n",
    "\n",
    "print(\"Scores of students with at least one score above 90:\")\n",
    "\n",
    "print(mark_score_above_90)\n"
   ]
  },
  {
   "cell_type": "code",
   "execution_count": 35,
   "id": "e11b04ce",
   "metadata": {},
   "outputs": [
    {
     "name": "stdout",
     "output_type": "stream",
     "text": [
      "Scores of students with at least one score above 90 :\n",
      "[[78 89 94]\n",
      " [91 87 90]\n",
      " [87 95 84]]\n"
     ]
    }
   ],
   "source": [
    "def high_scoring_students(data, minimum_score=90):\n",
    "    \n",
    "    # Find students with at least one score above the minimum score\n",
    "    high_scorers = data[np.any(data > minimum_score, axis=1)]\n",
    "    return high_scorers\n",
    "\n",
    "\n",
    "print(\"Scores of students with at least one score above\", passing_score, \":\")\n",
    "print(high_scores)\n"
   ]
  },
  {
   "cell_type": "markdown",
   "id": "01df83eb",
   "metadata": {},
   "source": [
    "### 3.2 You are provided with a 2D NumPy array of data representing sales data for different products. Each row corresponds to a product, and each column represents the monthly sales for a specific month. Calculate the following statistics for each product: mean, median, standard deviation, and the month with the highest sales"
   ]
  },
  {
   "cell_type": "code",
   "execution_count": 15,
   "id": "49b75789",
   "metadata": {},
   "outputs": [
    {
     "data": {
      "text/plain": [
       "array([[120, 150, 130, 110],\n",
       "       [200, 180, 220, 250],\n",
       "       [ 90, 100,  95, 110],\n",
       "       [300, 280, 320, 340]])"
      ]
     },
     "execution_count": 15,
     "metadata": {},
     "output_type": "execute_result"
    }
   ],
   "source": [
    "data=np.array([[120,150,130,110],[200,180,220,250],[90,100,95,110],[300,280,320,340]])\n",
    "data"
   ]
  },
  {
   "cell_type": "code",
   "execution_count": 18,
   "id": "bec3bbcf",
   "metadata": {},
   "outputs": [
    {
     "name": "stdout",
     "output_type": "stream",
     "text": [
      "Product Statistics:\n",
      "Product 1: {'mean': 127.5, 'median': 125.0, 'std': 14.79019945774904, 'highest_month': 2}\n",
      "Product 2: {'mean': 212.5, 'median': 210.0, 'std': 25.8602010819715, 'highest_month': 4}\n",
      "Product 3: {'mean': 98.75, 'median': 97.5, 'std': 7.39509972887452, 'highest_month': 4}\n",
      "Product 4: {'mean': 310.0, 'median': 310.0, 'std': 22.360679774997898, 'highest_month': 4}\n"
     ]
    }
   ],
   "source": [
    "def cal_statistics(data):\n",
    "  product_stats = []\n",
    "  for product in data:\n",
    "    product_stats.append({\n",
    "      \"mean\": np.mean(product),\n",
    "      \"median\": np.median(product),\n",
    "      \"std\": np.std(product),\n",
    "      \"highest_month\": np.argmax(product) + 1  # Add 1 to account for 0-based indexing\n",
    "    })\n",
    "  return product_stats\n",
    "\n",
    "product_stats = cal_statistics(data)\n",
    "\n",
    "# Print the statistics for each product\n",
    "print(\"Product Statistics:\")\n",
    "for i, product_stat in enumerate(product_stats):\n",
    "  print(f\"Product {i+1}: {product_stat}\")\n"
   ]
  },
  {
   "cell_type": "markdown",
   "id": "3fd6c185",
   "metadata": {},
   "source": [
    "### 3.3 Create a NumPy array of size 1000 with random integers between 1 and 100. Then, use NumPy functions to find the top 10 most frequently occurring values in the array.\n",
    "\n"
   ]
  },
  {
   "cell_type": "code",
   "execution_count": 6,
   "id": "b8d30a76",
   "metadata": {},
   "outputs": [
    {
     "name": "stdout",
     "output_type": "stream",
     "text": [
      "Top 10 most frequently occurring values:\n",
      "Value: 31, Count: 18\n",
      "Value: 45, Count: 16\n",
      "Value: 33, Count: 16\n",
      "Value: 27, Count: 16\n",
      "Value: 47, Count: 15\n",
      "Value: 71, Count: 15\n",
      "Value: 42, Count: 15\n",
      "Value: 88, Count: 15\n",
      "Value: 35, Count: 14\n",
      "Value: 3, Count: 14\n"
     ]
    }
   ],
   "source": [
    "x=np.random.randint(1,100,1000)\n",
    "\n",
    "counts = np.bincount(x)\n",
    "\n",
    "top_indices = np.argsort(-counts)[:10]\n",
    "\n",
    "print(\"Top 10 most frequently occurring values:\")\n",
    "for index in top_indices:\n",
    "    print(f\"Value: {index}, Count: {counts[index]}\")"
   ]
  },
  {
   "cell_type": "markdown",
   "id": "53d34ffd",
   "metadata": {},
   "source": [
    "### 2. Write a user defined function foo_2 that takes a 1 , 2,3 dim NumPy array arr and returns a new n-1 dim array, where each element is replaced by the count of non-zero elements wrt axis.\n",
    "\n"
   ]
  },
  {
   "cell_type": "code",
   "execution_count": 7,
   "id": "0b7bdbbd",
   "metadata": {},
   "outputs": [
    {
     "data": {
      "text/plain": [
       "array([2, 2, 2, 1])"
      ]
     },
     "execution_count": 7,
     "metadata": {},
     "output_type": "execute_result"
    }
   ],
   "source": [
    "def foo_2(arr, axis):\n",
    "    if arr.ndim != 2:\n",
    "        print(\"Input array must be 2-dimensional.\")\n",
    "    else:\n",
    "        x=np.where(arr != 0, 1, 0)\n",
    "        counts=np.sum(x,axis=axis)\n",
    "        return counts\n",
    "\n",
    "def foo_3(arr, axis):\n",
    "    if arr.ndim != 3:\n",
    "        print(\"Input array must be 3-dimensional.\")\n",
    "    else:\n",
    "        x=np.where(arr != 0, 1, 0)\n",
    "        counts=np.sum(x,axis=axis)\n",
    "        return counts\n",
    "    \n",
    "    \n",
    "\n",
    "arr = np.array([[1, 2, 3, 4], [0, 5, 0, 0], [2, 0, 1, 0]])\n",
    "foo_2(arr, axis=0)"
   ]
  },
  {
   "cell_type": "code",
   "execution_count": 9,
   "id": "53dd1765",
   "metadata": {},
   "outputs": [
    {
     "data": {
      "text/plain": [
       "array([[2, 1, 2, 1],\n",
       "       [0, 2, 0, 0],\n",
       "       [2, 1, 2, 1]])"
      ]
     },
     "execution_count": 9,
     "metadata": {},
     "output_type": "execute_result"
    }
   ],
   "source": [
    "arr1 = np.array([[[1, 2, 3, 4], [0, 5, 0, 0], [2, 0, 1, 0]],[[2, 0, 1, 0], [0, 5, 0, 0], [1, 2, 3, 4]]])\n",
    "foo_3(arr1,axis=0)\n"
   ]
  },
  {
   "cell_type": "code",
   "execution_count": 10,
   "id": "ae409c6b",
   "metadata": {},
   "outputs": [
    {
     "data": {
      "text/plain": [
       "array([[2, 2, 2, 1],\n",
       "       [2, 2, 2, 1]])"
      ]
     },
     "execution_count": 10,
     "metadata": {},
     "output_type": "execute_result"
    }
   ],
   "source": [
    "foo_3(arr1,axis=1)\n"
   ]
  },
  {
   "cell_type": "code",
   "execution_count": null,
   "id": "cdc9699f",
   "metadata": {},
   "outputs": [],
   "source": []
  }
 ],
 "metadata": {
  "kernelspec": {
   "display_name": "Python 3 (ipykernel)",
   "language": "python",
   "name": "python3"
  },
  "language_info": {
   "codemirror_mode": {
    "name": "ipython",
    "version": 3
   },
   "file_extension": ".py",
   "mimetype": "text/x-python",
   "name": "python",
   "nbconvert_exporter": "python",
   "pygments_lexer": "ipython3",
   "version": "3.9.13"
  }
 },
 "nbformat": 4,
 "nbformat_minor": 5
}
